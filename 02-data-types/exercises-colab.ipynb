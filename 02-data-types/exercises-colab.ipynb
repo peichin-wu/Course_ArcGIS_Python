{
  "cells": [
    {
      "cell_type": "markdown",
      "id": "heated-welding",
      "metadata": {
        "deletable": false,
        "id": "heated-welding"
      },
      "source": [
        "# Python 的 50+ 練習：資料科學學習手冊\n",
        "\n",
        "> 使用資料類別運算顯示與判斷\n",
        "\n",
        "[數據交點](https://www.datainpoint.com) | 郭耀仁 <yaojenkuo@datainpoint.com>"
      ]
    },
    {
      "cell_type": "markdown",
      "id": "fleet-tokyo",
      "metadata": {
        "deletable": false,
        "id": "fleet-tokyo"
      },
      "source": [
        "## 練習題指引\n",
        "\n",
        "- 由於近期 mybinder.org 的服務不穩定，新增 Google Colab 作為另一個寫作練習題的平台。\n",
        "- 開始寫作之前，可以先按上方「Copy to Drive」按鈕將筆記本複製到自己的 Google 雲端硬碟。\n",
        "- 練習題閒置超過 10 分鐘會自動斷線，只要重新點選練習題連結即可重新啟動。\n",
        "- 第一個程式碼儲存格會將可能用得到的模組載入。\n",
        "- 如果練習題需要載入檔案，檔案存放絕對路徑為 `/content`\n",
        "- 練習題已經給定函數、類別、預期輸入或參數名稱，我們只需要寫作程式區塊。同時也給定函數的類別提示，說明預期輸入以及預期輸出的類別。\n",
        "- 說明（Docstring）會描述測試如何進行，閱讀說明能夠暸解預期輸入以及預期輸出之間的關係，幫助我們更快解題。\n",
        "- 請在 `### BEGIN SOLUTION` 與 `### END SOLUTION` 這兩個註解之間寫作函數或者類別的程式區塊。\n",
        "- 將預期輸出放置在 `return` 保留字之後，若只是用 `print()` 函數將預期輸出印出無法通過測試。\n",
        "- 語法錯誤（`SyntaxError`）或縮排錯誤（`IndentationError`）等將會導致測試失效，測試之前應該先在筆記本使用函數觀察是否與說明（Docstring）描述的功能相符。\n",
        "- 如果卡關，可以先看練習題詳解或者複習課程單元影片之後再繼續寫作。\n",
        "- 執行測試的步驟：\n",
        "    1. 點選右上角 Connect\n",
        "    2. 點選上方選單的 Runtime -> Restart and run all -> Yes -> Run anyway\n",
        "    3. 移動到 Google Colab 的最後一個儲存格看批改測試結果。"
      ]
    },
    {
      "cell_type": "markdown",
      "id": "typical-impact",
      "metadata": {
        "id": "typical-impact"
      },
      "source": [
        "## 006. 轉換公里為英里\n",
        "\n",
        "定義函數 `convert_km_to_mile()` 能夠將以公里（km）為單位的距離轉換為以英里（mile）為單位的距離。\n",
        "\n",
        "\\begin{equation}\n",
        "1 \\; \\text{km} = 0.62137 \\; \\text{mile}\n",
        "\\end{equation}\n",
        "\n",
        "- 運用數值運算符。\n",
        "- 將預期輸出寫在 `return` 之後。"
      ]
    },
    {
      "cell_type": "code",
      "execution_count": 5,
      "id": "economic-blast",
      "metadata": {
        "id": "economic-blast"
      },
      "outputs": [],
      "source": [
        "def convert_km_to_mile(km: float) -> float:\n",
        "    \"\"\"\n",
        "    >>> convert_km_to_mile(42.195) # a full marathon\n",
        "    26.21870715\n",
        "    >>> convert_km_to_mile(21.095) # a half marathon\n",
        "    13.10780015\n",
        "    \"\"\"\n",
        "    ### BEGIN SOLUTION\n",
        "    return float(\"{:.8f}\".format(km * 0.62137))\n",
        "    ### END SOLUTION"
      ]
    },
    {
      "cell_type": "markdown",
      "id": "silver-mechanism",
      "metadata": {
        "id": "silver-mechanism"
      },
      "source": [
        "## 007. 轉換華氏為攝氏\n",
        "\n",
        "定義函數 `convert_fahrenheit_to_celsius()` 能夠將以華氏為單位的溫度轉換為以攝氏為單位的溫度。\n",
        "\n",
        "\\begin{equation}\n",
        "\\text{Celsius}(^{\\circ} \\text{C}) = (\\text{Fahrenheit}(^{\\circ} \\text{F}) - 32) \\times \\frac{5}{9}\n",
        "\\end{equation}\n",
        "\n",
        "- 運用數值運算符。\n",
        "- 注意數值運算符作用的優先順序。\n",
        "- 將預期輸出寫在 `return` 之後。"
      ]
    },
    {
      "cell_type": "code",
      "execution_count": 10,
      "id": "latest-connectivity",
      "metadata": {
        "id": "latest-connectivity"
      },
      "outputs": [],
      "source": [
        "def convert_fahrenheit_to_celsius(x: int) -> float:\n",
        "    \"\"\"\n",
        "    >>> convert_fahrenheit_to_celsius(212)\n",
        "    100.0\n",
        "    >>> convert_fahrenheit_to_celsius(32)\n",
        "    0.0\n",
        "    \"\"\"\n",
        "    ### BEGIN SOLUTION\n",
        "    return float(f\"{(x - 32)*5/9:.1f}\")\n",
        "    return float(\"{:.1f}\".format((x - 32)*5/9))\n",
        "    ### END SOLUTION"
      ]
    },
    {
      "cell_type": "markdown",
      "id": "driven-hacker",
      "metadata": {
        "id": "driven-hacker"
      },
      "source": [
        "## 008. 計算 BMI\n",
        "\n",
        "定義函數 `calculate_bmi()` 能夠計算身高（公分）與體重（公斤）換算為身體質量指數（Body Mass Index, BMI）。\n",
        "\n",
        "\\begin{equation}\n",
        "\\text{BMI} = \\frac{\\text{weight}_{kg}}{\\text{height}_{m}^2}\n",
        "\\end{equation}\n",
        "\n",
        "- 運用數值運算符。\n",
        "- 注意數值運算符作用的優先順序。\n",
        "- 將預期輸出寫在 `return` 之後。"
      ]
    },
    {
      "cell_type": "code",
      "execution_count": 27,
      "id": "regulation-former",
      "metadata": {
        "id": "regulation-former"
      },
      "outputs": [],
      "source": [
        "def calculate_bmi(height: int, weight: int) -> float:\n",
        "    \"\"\"\n",
        "    >>> calculate_bmi(206, 113) # LeBron James\n",
        "    26.628334433028563\n",
        "    >>> calculate_bmi(211, 110) # Giannis Antetokounmpo\n",
        "    24.70744143213315\n",
        "    >>> calculate_bmi(201, 104) # Luka Doncic\n",
        "    25.74193708076532\n",
        "    \"\"\"\n",
        "    ### BEGIN SOLUTION\n",
        "    return float(f\"{weight/((height/100)**2)}\")\n",
        "    ### END SOLUTION"
      ]
    },
    {
      "cell_type": "markdown",
      "id": "hollywood-lottery",
      "metadata": {
        "id": "hollywood-lottery"
      },
      "source": [
        "## 009. 顯示逗號與兩位小數格式\n",
        "\n",
        "定義函數 `show_integer_with_commas_and_digits()` 能夠將整數以千分位逗號與兩位浮點數顯示。\n",
        "\n",
        "- 運用 `str` 的特定顯示格式：`str.format()` 方法或 f-string 語法。\n",
        "- 將預期輸出寫在 `return` 之後。"
      ]
    },
    {
      "cell_type": "code",
      "execution_count": 23,
      "id": "neutral-windsor",
      "metadata": {
        "id": "neutral-windsor"
      },
      "outputs": [],
      "source": [
        "def show_integer_with_commas_and_digits(x: int) -> str:\n",
        "    \"\"\"\n",
        "    >>> show_integer_with_commas_and_digits(1000)\n",
        "    '1,000.00'\n",
        "    >>> show_integer_with_commas_and_digits(10000)\n",
        "    '10,000.00'\n",
        "    >>> show_integer_with_commas_and_digits(100000)\n",
        "    '100,000.00'\n",
        "    \"\"\"\n",
        "    ### BEGIN SOLUTION\n",
        "    return f\"{x:,.2f}\"\n",
        "    ### END SOLUTION"
      ]
    },
    {
      "cell_type": "markdown",
      "id": "persistent-powell",
      "metadata": {
        "id": "persistent-powell"
      },
      "source": [
        "## 010. 轉換 1 美元為其他貨幣\n",
        "\n",
        "定義函數 `convert_one_usd_to_another_currency()` 能夠將 1 美元與兌換其他貨幣以千分位逗號與兩位浮點數顯示。\n",
        "\n",
        "- 運用 `str` 的特定顯示格式：`str.format()` 方法或 f-string 語法。\n",
        "- 將預期輸出寫在 `return` 之後。"
      ]
    },
    {
      "cell_type": "code",
      "execution_count": 36,
      "id": "smooth-material",
      "metadata": {
        "id": "smooth-material"
      },
      "outputs": [],
      "source": [
        "def convert_one_usd_to_another_currency(currency_name: str, exchange_rate: float) -> str:\n",
        "    \"\"\"\n",
        "    >>> convert_one_usd_to_another_currency(\"NTD\", 28)\n",
        "    '1.00 USD = 28.00 NTD'\n",
        "    >>> convert_one_usd_to_another_currency(\"KRW\", 1196)\n",
        "    '1.00 USD = 1,196.00 KRW'\n",
        "    >>> convert_one_usd_to_another_currency(\"JPY\", 112)\n",
        "    '1.00 USD = 112.00 JPY'\n",
        "    \"\"\"\n",
        "    ### BEGIN SOLUTION\n",
        "    return  \"1.00 USD = \" + \"{:.2f}\".format(exchange_rate) + \" \"+ \"{}\" .format(currency_name)\n",
        "    ### END SOLUTION"
      ]
    },
    {
      "cell_type": "code",
      "source": [
        "convert_one_usd_to_another_currency(\"NTD\", 28)"
      ],
      "metadata": {
        "id": "OYMatunQJiiG",
        "outputId": "f4bf5586-3654-457b-881b-e3c959a5380f",
        "colab": {
          "base_uri": "https://localhost:8080/",
          "height": 35
        }
      },
      "id": "OYMatunQJiiG",
      "execution_count": 37,
      "outputs": [
        {
          "output_type": "execute_result",
          "data": {
            "text/plain": [
              "'1.00 USD = 28.00 NTD'"
            ],
            "application/vnd.google.colaboratory.intrinsic+json": {
              "type": "string"
            }
          },
          "metadata": {},
          "execution_count": 37
        }
      ]
    },
    {
      "cell_type": "markdown",
      "id": "automated-glossary",
      "metadata": {
        "id": "automated-glossary"
      },
      "source": [
        "## 011. 是否為正數\n",
        "\n",
        "定義函數 `is_positive()` 能夠判斷輸入的整數是否為正數。\n",
        "\n",
        "- 運用關係運算符。\n",
        "- 將預期輸出寫在 `return` 之後。"
      ]
    },
    {
      "cell_type": "code",
      "execution_count": 38,
      "id": "interior-spanish",
      "metadata": {
        "id": "interior-spanish"
      },
      "outputs": [],
      "source": [
        "def is_positive(x: int) -> bool:\n",
        "    \"\"\"\n",
        "    >>> is_positive(-1)\n",
        "    False\n",
        "    >>> is_positive(0)\n",
        "    False\n",
        "    >>> is_positive(1)\n",
        "    True\n",
        "    \"\"\"\n",
        "    ### BEGIN SOLUTION\n",
        "    return x>0\n",
        "    ### END SOLUTION"
      ]
    },
    {
      "cell_type": "markdown",
      "id": "particular-samoa",
      "metadata": {
        "id": "particular-samoa"
      },
      "source": [
        "## 012. 是否為兩位數\n",
        "\n",
        "定義函數 `has_two_digits()` 能夠判斷輸入的正整數是否為兩位數。\n",
        "\n",
        "- 運用關係運算符。\n",
        "- 將預期輸出寫在 `return` 之後。"
      ]
    },
    {
      "cell_type": "code",
      "execution_count": 40,
      "id": "third-ability",
      "metadata": {
        "id": "third-ability"
      },
      "outputs": [],
      "source": [
        "def has_two_digits(x: int) -> bool:\n",
        "    \"\"\"\n",
        "    >>> has_two_digits(9)\n",
        "    False\n",
        "    >>> has_two_digits(10)\n",
        "    True\n",
        "    >>> has_two_digits(100)\n",
        "    False\n",
        "    \"\"\"\n",
        "    ### BEGIN SOLUTION\n",
        "    return 9<x<100\n",
        "    ### END SOLUTION"
      ]
    },
    {
      "cell_type": "markdown",
      "id": "corporate-building",
      "metadata": {
        "id": "corporate-building"
      },
      "source": [
        "## 013. 是否為奇數\n",
        "\n",
        "定義函數 `is_odd()` 能夠判斷輸入的整數是否為奇數。\n",
        "\n",
        "- 運用數值運算符。\n",
        "- 運用關係運算符。\n",
        "- 將預期輸出寫在 `return` 之後。"
      ]
    },
    {
      "cell_type": "code",
      "execution_count": 45,
      "id": "domestic-constraint",
      "metadata": {
        "id": "domestic-constraint"
      },
      "outputs": [],
      "source": [
        "def is_odd(x: int) -> bool:\n",
        "    \"\"\"\n",
        "    >>> is_odd(0)\n",
        "    False\n",
        "    >>> is_odd(1)\n",
        "    True\n",
        "    >>> is_odd(2)\n",
        "    False\n",
        "    \"\"\"\n",
        "    ### BEGIN SOLUTION\n",
        "    return x%2 == 1\n",
        "    ### END SOLUTION"
      ]
    },
    {
      "cell_type": "markdown",
      "id": "intellectual-system",
      "metadata": {
        "id": "intellectual-system"
      },
      "source": [
        "## 014. 是否為因數\n",
        "\n",
        "自行定義函數 `is_a_divisor()` 能夠判斷輸入的兩個正整數中，前者是否為後者的因數（前者能否把後者整除）。\n",
        "\n",
        "- 運用數值運算符。\n",
        "- 運用關係運算符。\n",
        "- 將預期輸出寫在 `return` 之後。"
      ]
    },
    {
      "cell_type": "code",
      "execution_count": 49,
      "id": "rapid-wilderness",
      "metadata": {
        "id": "rapid-wilderness"
      },
      "outputs": [],
      "source": [
        "def is_a_divisor(x: int, y: int) -> bool:\n",
        "    \"\"\"\n",
        "    >>> is_a_divisor(1, 3)\n",
        "    True\n",
        "    >>> is_a_divisor(2, 3)\n",
        "    False\n",
        "    >>> is_a_divisor(3, 3)\n",
        "    True\n",
        "    >>> is_a_divisor(1, 4)\n",
        "    True\n",
        "    >>> is_a_divisor(2, 4)\n",
        "    True\n",
        "    >>> is_a_divisor(3, 4)\n",
        "    False\n",
        "    >>> is_a_divisor(4, 4)\n",
        "    True\n",
        "    \"\"\"\n",
        "    ### BEGIN SOLUTION\n",
        "    return y%x ==0\n",
        "    ### END SOLUTION"
      ]
    },
    {
      "cell_type": "markdown",
      "id": "thousand-delaware",
      "metadata": {
        "id": "thousand-delaware"
      },
      "source": [
        "## 015. 是否有母音\n",
        "\n",
        "定義函數 `contain_vowels()` 能夠判斷輸入的 `str` 中是否包含英文的母音 a, e, i, o, u。\n",
        "\n",
        "- 運用關係運算符。\n",
        "- 運用邏輯運算符。\n",
        "- 將預期輸出寫在 `return` 之後。"
      ]
    },
    {
      "cell_type": "code",
      "execution_count": 56,
      "id": "banned-palace",
      "metadata": {
        "id": "banned-palace"
      },
      "outputs": [],
      "source": [
        "def contain_vowels(x: str) -> bool:\n",
        "    \"\"\"\n",
        "    >>> contain_vowels(\"python\")\n",
        "    True\n",
        "    >>> contain_vowels(\"pythn\")\n",
        "    False\n",
        "    >>> contain_vowels(\"anaconda\")\n",
        "    True\n",
        "    >>> contain_vowels(\"ncnd\")\n",
        "    False\n",
        "    >>> contain_vowels(\"reticulate\")\n",
        "    True\n",
        "    >>> contain_vowels(\"rtclt\")\n",
        "    False\n",
        "    \"\"\"\n",
        "    ### BEGIN SOLUTION\n",
        "    contain_a = \"a\" in x\n",
        "    contain_e = \"e\" in x\n",
        "    contain_i = \"i\" in x\n",
        "    contain_o = \"o\" in x\n",
        "    contain_u = \"u\" in x\n",
        "    contain_aeiou = contain_a or contain_e or contain_i or contain_o or contain_u\n",
        "    return contain_aeiou\n",
        "    ### END SOLUTION"
      ]
    },
    {
      "cell_type": "markdown",
      "id": "849e796a",
      "metadata": {
        "id": "849e796a"
      },
      "source": [
        "## 練習題到此結束，以下的儲存格可以忽略"
      ]
    },
    {
      "cell_type": "code",
      "execution_count": null,
      "id": "a919b927",
      "metadata": {
        "id": "a919b927"
      },
      "outputs": [],
      "source": [
        "!wget -N https://raw.githubusercontent.com/datainpoint/classroom-hahow-pythonfiftyplus/main/exercise_index.json"
      ]
    },
    {
      "cell_type": "code",
      "execution_count": null,
      "id": "05199207",
      "metadata": {
        "id": "05199207"
      },
      "outputs": [],
      "source": [
        "import unittest\n",
        "import json\n",
        "\n",
        "def run_suite(test_class, chapter_index):\n",
        "    suite = unittest.TestLoader().loadTestsFromTestCase(test_class)\n",
        "    runner = unittest.TextTestRunner(verbosity=2)\n",
        "    test_results = runner.run(suite)\n",
        "    number_of_failures = len(test_results.failures)\n",
        "    number_of_errors = len(test_results.errors)\n",
        "    number_of_test_runs = test_results.testsRun\n",
        "    number_of_successes = number_of_test_runs - (number_of_failures + number_of_errors)\n",
        "    with open(\"exercise_index.json\", \"r\") as f:\n",
        "        exercise_index = json.load(f)\n",
        "    chapter_name = exercise_index[chapter_index][\"chapter_name\"]\n",
        "    number_of_total_questions = 0\n",
        "    number_of_completed_questions = 0\n",
        "    for i in range(len(exercise_index)):\n",
        "        number_of_total_questions += exercise_index[i][\"number_of_exercises\"]\n",
        "        if i < chapter_index:\n",
        "            number_of_completed_questions += exercise_index[i][\"number_of_exercises\"]\n",
        "    number_of_completed_questions += number_of_successes\n",
        "    chapter_percentage = number_of_successes * 100 / number_of_test_runs\n",
        "    overall_percentage = number_of_completed_questions * 100 / number_of_total_questions\n",
        "    print(\"你在「{}」章節的練習題完成率為 ... {:.2f}% ({}/{})\".format(chapter_name, chapter_percentage, number_of_successes, number_of_test_runs))\n",
        "    print(\"整體課程練習題的累計完成率為 ... {:.2f}% ({}/{})\".format(overall_percentage, number_of_completed_questions, number_of_total_questions))\n",
        "    if chapter_percentage == 100 and chapter_index < 19:\n",
        "        print(\"表現得很好，你已經完成「{}」所有習題，我們繼續往下個章節：「{}」前進！\".format(exercise_index[chapter_index][\"chapter_name\"], exercise_index[chapter_index + 1][\"chapter_name\"]))\n",
        "        if chapter_index == 4:\n",
        "            print(\"太棒了，你已經完成「Python 的 50+ 練習」的第一部分：Python 程式設計的基礎觀念，接下來還有三個部分等你來挑戰！\")\n",
        "        elif chapter_index == 8:\n",
        "            print(\"表現得非常好，你已經完成「Python 的 50+ 練習」的第二部分：Python 程式設計的進階觀念，接著讓我們邁向資料科學！\")\n",
        "        elif chapter_index == 12:\n",
        "            print(\"太令人佩服，你已經完成「Python 的 50+ 練習」的第三部分：Python 資料科學的基礎，距離完課只剩下最後一哩路！\")\n",
        "    elif chapter_percentage == 100 and chapter_index == 19:\n",
        "        print(\"恭喜完課，你已經完成「Python 的 50+ 練習」所有習題，能夠堅持到底完成所有的教學影片與練習題真是非常了不起！後面已經沒有練習題了，你現在是一位擅長寫程式處理資料的分析師！\")\n",
        "    elif chapter_percentage >= 50:\n",
        "        print(\"你已經完成「{}」章節一半以上的練習，繼續加油！\".format(chapter_name))\n",
        "\n",
        "class TestDataTypes(unittest.TestCase):\n",
        "    def test_006_convert_km_to_mile(self):\n",
        "        self.assertTrue(convert_km_to_mile(42.195) > 26)\n",
        "        self.assertTrue(convert_km_to_mile(42.195) < 27)\n",
        "        self.assertTrue(convert_km_to_mile(21.095) > 13)\n",
        "        self.assertTrue(convert_km_to_mile(21.095) < 14)\n",
        "    def test_007_convert_fahrenheit_to_celsius(self):\n",
        "        self.assertTrue(convert_fahrenheit_to_celsius(212) >= 100.0)\n",
        "        self.assertTrue(convert_fahrenheit_to_celsius(32) >= 0.0)\n",
        "    def test_008_calculate_bmi(self):\n",
        "        self.assertTrue(calculate_bmi(206, 113) >= 26)\n",
        "        self.assertTrue(calculate_bmi(206, 113) < 27)\n",
        "        self.assertTrue(calculate_bmi(211, 110) >= 24)\n",
        "        self.assertTrue(calculate_bmi(211, 110) < 25)\n",
        "        self.assertTrue(calculate_bmi(201, 104) >= 25)\n",
        "        self.assertTrue(calculate_bmi(201, 104) < 26)\n",
        "    def test_009_show_integer_with_commas_and_digits(self):\n",
        "        self.assertEqual(show_integer_with_commas_and_digits(1000), \"1,000.00\")\n",
        "        self.assertEqual(show_integer_with_commas_and_digits(10000), \"10,000.00\")\n",
        "        self.assertEqual(show_integer_with_commas_and_digits(100000), \"100,000.00\")\n",
        "        self.assertEqual(show_integer_with_commas_and_digits(1000000), \"1,000,000.00\")\n",
        "        self.assertEqual(show_integer_with_commas_and_digits(10000000), \"10,000,000.00\")\n",
        "    def test_010_convert_one_usd_to_another_currency(self):\n",
        "        self.assertEqual(convert_one_usd_to_another_currency(\"NTD\", 28), \"1.00 USD = 28.00 NTD\")\n",
        "        self.assertEqual(convert_one_usd_to_another_currency(\"KRW\", 1196), \"1.00 USD = 1,196.00 KRW\")\n",
        "        self.assertEqual(convert_one_usd_to_another_currency(\"JPY\", 112), \"1.00 USD = 112.00 JPY\")\n",
        "    def test_011_is_positive(self):\n",
        "        self.assertFalse(is_positive(-2))\n",
        "        self.assertFalse(is_positive(-1))\n",
        "        self.assertFalse(is_positive(0))\n",
        "        self.assertTrue(is_positive(1))\n",
        "        self.assertTrue(is_positive(2))\n",
        "    def test_012_has_two_digits(self):\n",
        "        self.assertFalse(has_two_digits(8))\n",
        "        self.assertFalse(has_two_digits(9))\n",
        "        self.assertFalse(has_two_digits(100))\n",
        "        self.assertTrue(has_two_digits(10))\n",
        "        self.assertTrue(has_two_digits(99))\n",
        "    def test_013_is_odd(self):\n",
        "        self.assertFalse(is_odd(0))\n",
        "        self.assertFalse(is_odd(2))\n",
        "        self.assertFalse(is_odd(4))\n",
        "        self.assertTrue(is_odd(1))\n",
        "        self.assertTrue(is_odd(3))\n",
        "    def test_014_is_a_divisor(self):\n",
        "        self.assertFalse(is_a_divisor(2, 3))\n",
        "        self.assertFalse(is_a_divisor(3, 4))\n",
        "        self.assertTrue(is_a_divisor(1, 3))\n",
        "        self.assertTrue(is_a_divisor(3, 3))\n",
        "        self.assertTrue(is_a_divisor(1, 4))\n",
        "        self.assertTrue(is_a_divisor(2, 4))\n",
        "        self.assertTrue(is_a_divisor(4, 4))\n",
        "    def test_015_contain_vowels(self):\n",
        "        self.assertTrue(contain_vowels(\"python\"))\n",
        "        self.assertTrue(contain_vowels(\"anaconda\"))\n",
        "        self.assertTrue(contain_vowels(\"reticulate\"))\n",
        "        self.assertFalse(contain_vowels(\"pythn\"))\n",
        "        self.assertFalse(contain_vowels(\"ncnd\"))\n",
        "        self.assertFalse(contain_vowels(\"rtclt\"))\n",
        "\n",
        "run_suite(TestDataTypes, 1)"
      ]
    }
  ],
  "metadata": {
    "kernelspec": {
      "display_name": "Python 3 (ipykernel)",
      "language": "python",
      "name": "python3"
    },
    "language_info": {
      "codemirror_mode": {
        "name": "ipython",
        "version": 3
      },
      "file_extension": ".py",
      "mimetype": "text/x-python",
      "name": "python",
      "nbconvert_exporter": "python",
      "pygments_lexer": "ipython3",
      "version": "3.9.5"
    },
    "colab": {
      "provenance": []
    }
  },
  "nbformat": 4,
  "nbformat_minor": 5
}