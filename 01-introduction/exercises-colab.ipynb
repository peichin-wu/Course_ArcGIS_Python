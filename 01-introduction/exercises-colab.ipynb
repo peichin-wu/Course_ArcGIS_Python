{
  "cells": [
    {
      "cell_type": "markdown",
      "id": "heated-welding",
      "metadata": {
        "deletable": false,
        "id": "heated-welding"
      },
      "source": [
        "# Python 的 50+ 練習：資料科學學習手冊\n",
        "\n",
        "> 簡介\n",
        "\n",
        "[數據交點](https://www.datainpoint.com) | 郭耀仁 <yaojenkuo@datainpoint.com>"
      ]
    },
    {
      "cell_type": "markdown",
      "id": "fleet-tokyo",
      "metadata": {
        "deletable": false,
        "id": "fleet-tokyo"
      },
      "source": [
        "## 練習題指引\n",
        "\n",
        "- 由於近期 mybinder.org 的服務不穩定，新增 Google Colab 作為另一個寫作練習題的平台。\n",
        "- 開始寫作之前，可以先按上方「Copy to Drive」按鈕將筆記本複製到自己的 Google 雲端硬碟。\n",
        "- 練習題閒置超過 10 分鐘會自動斷線，只要重新點選練習題連結即可重新啟動。\n",
        "- 第一個程式碼儲存格會將可能用得到的模組載入。\n",
        "- 如果練習題需要載入檔案，檔案存放絕對路徑為 `/content`\n",
        "- 練習題已經給定函數、類別、預期輸入或參數名稱，我們只需要寫作程式區塊。同時也給定函數的類別提示，說明預期輸入以及預期輸出的類別。\n",
        "- 說明（Docstring）會描述測試如何進行，閱讀說明能夠暸解預期輸入以及預期輸出之間的關係，幫助我們更快解題。\n",
        "- 請在 `### BEGIN SOLUTION` 與 `### END SOLUTION` 這兩個註解之間寫作函數或者類別的程式區塊。\n",
        "- 將預期輸出放置在 `return` 保留字之後，若只是用 `print()` 函數將預期輸出印出無法通過測試。\n",
        "- 語法錯誤（`SyntaxError`）或縮排錯誤（`IndentationError`）等將會導致測試失效，測試之前應該先在筆記本使用函數觀察是否與說明（Docstring）描述的功能相符。\n",
        "- 如果卡關，可以先看練習題詳解或者複習課程單元影片之後再繼續寫作。\n",
        "- 執行測試的步驟：\n",
        "    1. 點選右上角 Connect\n",
        "    2. 點選上方選單的 Runtime -> Restart and run all -> Yes -> Run anyway\n",
        "    3. 移動到 Google Colab 的最後一個儲存格看批改測試結果。"
      ]
    },
    {
      "cell_type": "markdown",
      "id": "typical-impact",
      "metadata": {
        "id": "typical-impact"
      },
      "source": [
        "## 001. 哈囉 Python\n",
        "\n",
        "定義函數 `say_hello_to_python()` 將 `\"Hello, Python!\"` 回傳。\n",
        "\n",
        "- 將答案直接寫在 `return` 之後。\n",
        "- 文字要用單引號或雙引號包括起來。"
      ]
    },
    {
      "cell_type": "code",
      "execution_count": 3,
      "id": "economic-blast",
      "metadata": {
        "id": "economic-blast"
      },
      "outputs": [],
      "source": [
        "def say_hello_to_python() -> str:\n",
        "    \"\"\"\n",
        "    >>> say_hello_to_python()\n",
        "    'Hello, Python!'\n",
        "    \"\"\"\n",
        "    ### BEGIN SOLUTION\n",
        "    return \"Hello, Python!\"\n",
        "    ### END SOLUTION"
      ]
    },
    {
      "cell_type": "code",
      "source": [
        "say_hello_to_python()"
      ],
      "metadata": {
        "id": "IWU-I5l6iFv7",
        "outputId": "8c1c7fee-476e-459a-852c-1964148c712a",
        "colab": {
          "base_uri": "https://localhost:8080/",
          "height": 35
        }
      },
      "id": "IWU-I5l6iFv7",
      "execution_count": 4,
      "outputs": [
        {
          "output_type": "execute_result",
          "data": {
            "text/plain": [
              "'Hello, Python!'"
            ],
            "application/vnd.google.colaboratory.intrinsic+json": {
              "type": "string"
            }
          },
          "metadata": {},
          "execution_count": 4
        }
      ]
    },
    {
      "cell_type": "markdown",
      "id": "latin-township",
      "metadata": {
        "id": "latin-township"
      },
      "source": [
        "## 002. 自己的英文名字\n",
        "\n",
        "定義函數 `say_my_name()` 將自己的英文名字回傳。\n",
        "\n",
        "- 將答案直接寫在 `return` 之後。\n",
        "- 文字要用單引號或雙引號包括起來。"
      ]
    },
    {
      "cell_type": "code",
      "execution_count": 5,
      "id": "satisfied-success",
      "metadata": {
        "id": "satisfied-success"
      },
      "outputs": [],
      "source": [
        "def say_my_name() -> str:\n",
        "    \"\"\"\n",
        "    >>> say_my_name()\n",
        "    'Tony'\n",
        "    >>> say_my_name()\n",
        "    'Tommy'\n",
        "    >>> say_my_name()\n",
        "    ...\n",
        "    \"\"\"\n",
        "    ### BEGIN SOLUTION\n",
        "    return \"Tony\"\n",
        "    ### END SOLUTION"
      ]
    },
    {
      "cell_type": "code",
      "source": [
        "say_my_name()"
      ],
      "metadata": {
        "id": "4la45G6yixKj",
        "outputId": "9a2c7b54-d0b1-4318-aa09-6def20cbcc0c",
        "colab": {
          "base_uri": "https://localhost:8080/",
          "height": 35
        }
      },
      "id": "4la45G6yixKj",
      "execution_count": 6,
      "outputs": [
        {
          "output_type": "execute_result",
          "data": {
            "text/plain": [
              "'Tony'"
            ],
            "application/vnd.google.colaboratory.intrinsic+json": {
              "type": "string"
            }
          },
          "metadata": {},
          "execution_count": 6
        }
      ]
    },
    {
      "cell_type": "markdown",
      "id": "backed-transport",
      "metadata": {
        "id": "backed-transport"
      },
      "source": [
        "## 003. 最喜歡的整數\n",
        "\n",
        "定義函數 `return_my_favorite_integer()` 將自己最喜歡的整數回傳。\n",
        "\n",
        "- 將答案直接寫在 `return` 之後。"
      ]
    },
    {
      "cell_type": "code",
      "execution_count": 7,
      "id": "sealed-beatles",
      "metadata": {
        "id": "sealed-beatles"
      },
      "outputs": [],
      "source": [
        "def return_my_favorite_integer() -> int:\n",
        "    \"\"\"\n",
        "    >>> return_my_favorite_integer()\n",
        "    24\n",
        "    >>> return_my_favorite_integer()\n",
        "    7\n",
        "    >>> return_my_favorite_integer()\n",
        "    ...\n",
        "    \"\"\"\n",
        "    ### BEGIN SOLUTION\n",
        "    return 24\n",
        "    ### END SOLUTION"
      ]
    },
    {
      "cell_type": "code",
      "source": [
        "return_my_favorite_integer()"
      ],
      "metadata": {
        "id": "FfxPtLvZi4HT",
        "outputId": "e9a87e04-59b1-412d-8c1a-dc13f2dcfeca",
        "colab": {
          "base_uri": "https://localhost:8080/"
        }
      },
      "id": "FfxPtLvZi4HT",
      "execution_count": 8,
      "outputs": [
        {
          "output_type": "execute_result",
          "data": {
            "text/plain": [
              "24"
            ]
          },
          "metadata": {},
          "execution_count": 8
        }
      ]
    },
    {
      "cell_type": "markdown",
      "id": "comprehensive-shannon",
      "metadata": {
        "id": "comprehensive-shannon"
      },
      "source": [
        "## 004. 第一句 Python 禪學\n",
        "\n",
        "定義函數 `return_the_first_zen_of_python()` 將第一句 Python 禪學（The Zen of Python）回傳。\n",
        "\n",
        "- 將答案直接寫在 `return` 之後。\n",
        "- 文字要用單引號或雙引號包括起來。\n",
        "\n",
        "```\n",
        "The Zen of Python, by Tim Peters\n",
        "\n",
        "Beautiful is better than ugly.\n",
        "Explicit is better than implicit.\n",
        "Simple is better than complex.\n",
        "Complex is better than complicated.\n",
        "Flat is better than nested.\n",
        "Sparse is better than dense.\n",
        "Readability counts.\n",
        "Special cases aren't special enough to break the rules.\n",
        "Although practicality beats purity.\n",
        "Errors should never pass silently.\n",
        "Unless explicitly silenced.\n",
        "In the face of ambiguity, refuse the temptation to guess.\n",
        "There should be one-- and preferably only one --obvious way to do it.\n",
        "Although that way may not be obvious at first unless you're Dutch.\n",
        "Now is better than never.\n",
        "Although never is often better than *right* now.\n",
        "If the implementation is hard to explain, it's a bad idea.\n",
        "If the implementation is easy to explain, it may be a good idea.\n",
        "Namespaces are one honking great idea -- let's do more of those!\n",
        "```"
      ]
    },
    {
      "cell_type": "code",
      "execution_count": 9,
      "id": "recorded-hormone",
      "metadata": {
        "id": "recorded-hormone"
      },
      "outputs": [],
      "source": [
        "def return_the_first_zen_of_python() -> str:\n",
        "    \"\"\"\n",
        "    >>> return_the_first_zen_of_python()\n",
        "    'Beautiful is better than ugly.'\n",
        "    \"\"\"\n",
        "    ### BEGIN SOLUTION\n",
        "    return \"Beautiful is better than ugly.\"\n",
        "    ### END SOLUTION"
      ]
    },
    {
      "cell_type": "code",
      "source": [
        "return_the_first_zen_of_python()"
      ],
      "metadata": {
        "id": "iUTPxE8wjMEt",
        "outputId": "ce7743e2-00ae-43c5-a964-cba9c104ac83",
        "colab": {
          "base_uri": "https://localhost:8080/",
          "height": 35
        }
      },
      "id": "iUTPxE8wjMEt",
      "execution_count": 10,
      "outputs": [
        {
          "output_type": "execute_result",
          "data": {
            "text/plain": [
              "'Beautiful is better than ugly.'"
            ],
            "application/vnd.google.colaboratory.intrinsic+json": {
              "type": "string"
            }
          },
          "metadata": {},
          "execution_count": 10
        }
      ]
    },
    {
      "cell_type": "markdown",
      "id": "atomic-scheduling",
      "metadata": {
        "id": "atomic-scheduling"
      },
      "source": [
        "## 005. 最喜歡的一句 Python 禪學\n",
        "\n",
        "定義函數 `return_my_favorite_zen_of_python()` 將自己最喜歡的一句 Python 禪學（The Zen of Python）回傳。\n",
        "\n",
        "- 將答案直接寫在 `return` 之後。\n",
        "- 文字要用單引號或雙引號包括起來。\n",
        "- 如果最喜歡的一句 Python 禪學中包含有單引號，就用雙引號包括。\n",
        "\n",
        "```\n",
        "The Zen of Python, by Tim Peters\n",
        "\n",
        "Beautiful is better than ugly.\n",
        "Explicit is better than implicit.\n",
        "Simple is better than complex.\n",
        "Complex is better than complicated.\n",
        "Flat is better than nested.\n",
        "Sparse is better than dense.\n",
        "Readability counts.\n",
        "Special cases aren't special enough to break the rules.\n",
        "Although practicality beats purity.\n",
        "Errors should never pass silently.\n",
        "Unless explicitly silenced.\n",
        "In the face of ambiguity, refuse the temptation to guess.\n",
        "There should be one-- and preferably only one --obvious way to do it.\n",
        "Although that way may not be obvious at first unless you're Dutch.\n",
        "Now is better than never.\n",
        "Although never is often better than *right* now.\n",
        "If the implementation is hard to explain, it's a bad idea.\n",
        "If the implementation is easy to explain, it may be a good idea.\n",
        "Namespaces are one honking great idea -- let's do more of those!\n",
        "```"
      ]
    },
    {
      "cell_type": "code",
      "execution_count": 11,
      "id": "prospective-brown",
      "metadata": {
        "id": "prospective-brown"
      },
      "outputs": [],
      "source": [
        "def return_my_favorite_zen_of_python() -> str:\n",
        "    \"\"\"\n",
        "    >>> return_my_favorite_zen_of_python()\n",
        "    'Now is better than never.'\n",
        "    >>> return_my_favorite_zen_of_python()\n",
        "    'Readability counts.'\n",
        "    >>> return_my_favorite_zen_of_python()\n",
        "    ...\n",
        "    \"\"\"\n",
        "    ### BEGIN SOLUTION\n",
        "    return \"Explicit is better than implicit.\"\n",
        "    ### END SOLUTION"
      ]
    },
    {
      "cell_type": "code",
      "source": [
        "return_my_favorite_zen_of_python()"
      ],
      "metadata": {
        "id": "7Obg_bAGjSrE",
        "outputId": "b56c03b2-8714-4e56-8e2f-c761bc26ac55",
        "colab": {
          "base_uri": "https://localhost:8080/",
          "height": 35
        }
      },
      "id": "7Obg_bAGjSrE",
      "execution_count": 12,
      "outputs": [
        {
          "output_type": "execute_result",
          "data": {
            "text/plain": [
              "'Explicit is better than implicit.'"
            ],
            "application/vnd.google.colaboratory.intrinsic+json": {
              "type": "string"
            }
          },
          "metadata": {},
          "execution_count": 12
        }
      ]
    },
    {
      "cell_type": "markdown",
      "id": "06c48ece",
      "metadata": {
        "id": "06c48ece"
      },
      "source": [
        "## 練習題到此結束，以下的儲存格可以忽略"
      ]
    },
    {
      "cell_type": "code",
      "execution_count": null,
      "id": "ec8259c9",
      "metadata": {
        "id": "ec8259c9"
      },
      "outputs": [],
      "source": [
        "!wget -N https://raw.githubusercontent.com/datainpoint/classroom-hahow-pythonfiftyplus/main/exercise_index.json\n",
        "!wget -N https://raw.githubusercontent.com/datainpoint/classroom-hahow-pythonfiftyplus/main/01-introduction/zen_of_python.txt"
      ]
    },
    {
      "cell_type": "code",
      "execution_count": null,
      "id": "fc05c537",
      "metadata": {
        "id": "fc05c537"
      },
      "outputs": [],
      "source": [
        "import unittest\n",
        "import json\n",
        "\n",
        "def run_suite(test_class, chapter_index):\n",
        "    suite = unittest.TestLoader().loadTestsFromTestCase(test_class)\n",
        "    runner = unittest.TextTestRunner(verbosity=2)\n",
        "    test_results = runner.run(suite)\n",
        "    number_of_failures = len(test_results.failures)\n",
        "    number_of_errors = len(test_results.errors)\n",
        "    number_of_test_runs = test_results.testsRun\n",
        "    number_of_successes = number_of_test_runs - (number_of_failures + number_of_errors)\n",
        "    with open(\"exercise_index.json\", \"r\") as f:\n",
        "        exercise_index = json.load(f)\n",
        "    chapter_name = exercise_index[chapter_index][\"chapter_name\"]\n",
        "    number_of_total_questions = 0\n",
        "    number_of_completed_questions = 0\n",
        "    for i in range(len(exercise_index)):\n",
        "        number_of_total_questions += exercise_index[i][\"number_of_exercises\"]\n",
        "        if i < chapter_index:\n",
        "            number_of_completed_questions += exercise_index[i][\"number_of_exercises\"]\n",
        "    number_of_completed_questions += number_of_successes\n",
        "    chapter_percentage = number_of_successes * 100 / number_of_test_runs\n",
        "    overall_percentage = number_of_completed_questions * 100 / number_of_total_questions\n",
        "    print(\"你在「{}」章節的練習題完成率為 ... {:.2f}% ({}/{})\".format(chapter_name, chapter_percentage, number_of_successes, number_of_test_runs))\n",
        "    print(\"整體課程練習題的累計完成率為 ... {:.2f}% ({}/{})\".format(overall_percentage, number_of_completed_questions, number_of_total_questions))\n",
        "    if chapter_percentage == 100 and chapter_index < 19:\n",
        "        print(\"表現得很好，你已經完成「{}」所有習題，我們繼續往下個章節：「{}」前進！\".format(exercise_index[chapter_index][\"chapter_name\"], exercise_index[chapter_index + 1][\"chapter_name\"]))\n",
        "        if chapter_index == 4:\n",
        "            print(\"太棒了，你已經完成「Python 的 50+ 練習」的第一部分：Python 程式設計的基礎觀念，接下來還有三個部分等你來挑戰！\")\n",
        "        elif chapter_index == 8:\n",
        "            print(\"表現得非常好，你已經完成「Python 的 50+ 練習」的第二部分：Python 程式設計的進階觀念，接著讓我們邁向資料科學！\")\n",
        "        elif chapter_index == 12:\n",
        "            print(\"太令人佩服，你已經完成「Python 的 50+ 練習」的第三部分：Python 資料科學的基礎，距離完課只剩下最後一哩路！\")\n",
        "    elif chapter_percentage == 100 and chapter_index == 19:\n",
        "        print(\"恭喜完課，你已經完成「Python 的 50+ 練習」所有習題，能夠堅持到底完成所有的教學影片與練習題真是非常了不起！後面已經沒有練習題了，你現在是一位擅長寫程式處理資料的分析師！\")\n",
        "    elif chapter_percentage >= 50:\n",
        "        print(\"你已經完成「{}」章節一半以上的練習，繼續加油！\".format(chapter_name))\n",
        "\n",
        "class TestIntroduction(unittest.TestCase):\n",
        "    def test_001_say_hello_to_python(self):\n",
        "        self.assertEqual(say_hello_to_python(), 'Hello, Python!')\n",
        "    def test_002_say_my_name(self):\n",
        "        self.assertTrue(isinstance(say_my_name(), str))\n",
        "    def test_003_return_my_favorite_integer(self):\n",
        "        self.assertTrue(isinstance(return_my_favorite_integer(), int))\n",
        "    def test_004_return_the_first_zen_of_python(self):\n",
        "        self.assertEqual(return_the_first_zen_of_python(), 'Beautiful is better than ugly.')\n",
        "    def test_005_return_my_favorite_zen_of_python(self):\n",
        "        my_favorite_zen_of_python = return_my_favorite_zen_of_python()\n",
        "        file_path = \"zen_of_python.txt\"\n",
        "        with open(file_path, 'r') as f:\n",
        "            zen_of_py = f.readlines()\n",
        "        zen_of_py = [s.strip() for s in zen_of_py]\n",
        "        self.assertIsInstance(my_favorite_zen_of_python, str)\n",
        "        self.assertTrue(my_favorite_zen_of_python in zen_of_py)\n",
        "\n",
        "run_suite(TestIntroduction, 0)"
      ]
    }
  ],
  "metadata": {
    "kernelspec": {
      "display_name": "Python 3 (ipykernel)",
      "language": "python",
      "name": "python3"
    },
    "language_info": {
      "codemirror_mode": {
        "name": "ipython",
        "version": 3
      },
      "file_extension": ".py",
      "mimetype": "text/x-python",
      "name": "python",
      "nbconvert_exporter": "python",
      "pygments_lexer": "ipython3",
      "version": "3.9.5"
    },
    "colab": {
      "provenance": []
    }
  },
  "nbformat": 4,
  "nbformat_minor": 5
}